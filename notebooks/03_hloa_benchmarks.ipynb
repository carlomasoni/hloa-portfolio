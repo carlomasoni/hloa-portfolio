{
  "cells": [
    {
      "cell_type": "markdown",
      "metadata": {},
      "source": [
        "# HLOA Benchmark Testing\n",
        "\n",
        "This notebook demonstrates how to test the Horned Lizard Optimization Algorithm (HLOA) against standard benchmark functions to validate its implementation and performance.\n",
        "\n",
        "## Overview\n",
        "\n",
        "We'll test HLOA against:\n",
        "1. **Unimodal functions** - Single global optimum (e.g., Sphere, Rosenbrock)\n",
        "2. **Multimodal functions** - Multiple local optima (e.g., Rastrigin, Ackley)\n",
        "3. **Fixed dimension functions** - Specific dimensional problems\n",
        "\n",
        "The benchmark functions are based on those used in the original HLOA research paper.\n",
        "\n",
        "\n",
        "\n",
        "\n"
      ]
    },
    {
      "cell_type": "code",
      "execution_count": null,
      "metadata": {},
      "outputs": [],
      "source": [
        "import sys\n",
        "import os\n",
        "sys.path.append(os.path.join(os.path.dirname(os.getcwd()), 'src'))\n",
        "\n",
        "import numpy as np\n",
        "import matplotlib.pyplot as plt\n",
        "import pandas as pd\n",
        "from hloa.core import HLOA, HLOA_Config\n",
        "from hloa.benchmarks import BenchmarkSuite\n",
        "from hloa.benchmark_runner import BenchmarkRunner\n",
        "\n",
        "np.random.seed(42)\n",
        "\n",
        "print(\"HLOA Benchmark Testing Environment Ready!\")\n"
      ]
    }
  ],
  "metadata": {
    "language_info": {
      "name": "python"
    }
  },
  "nbformat": 4,
  "nbformat_minor": 2
}
