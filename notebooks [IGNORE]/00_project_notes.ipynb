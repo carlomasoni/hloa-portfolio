{
 "cells": [
  {
   "cell_type": "markdown",
   "id": "b1f56c6c",
   "metadata": {},
   "source": [
    "## Project To-Do\n",
    "\n",
    "-> Ensure alpha-msh function is working as intended (should be okay as benchmarks seem fine but make sure.)\n",
    "-> compare benchmarks to paper and see if HLOA works as intended. \n",
    "-> implement the optimal convex QP solution to sharpe ratio, and compare to how HLOA matches up \n",
    "-> decide which further constraints are going to be necessary. "
   ]
  }
 ],
 "metadata": {
  "language_info": {
   "name": "python"
  }
 },
 "nbformat": 4,
 "nbformat_minor": 5
}
